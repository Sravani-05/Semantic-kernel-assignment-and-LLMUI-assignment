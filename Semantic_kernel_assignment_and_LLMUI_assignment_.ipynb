{
  "nbformat": 4,
  "nbformat_minor": 0,
  "metadata": {
    "colab": {
      "provenance": [],
      "include_colab_link": true
    },
    "kernelspec": {
      "name": "python3",
      "display_name": "Python 3"
    },
    "language_info": {
      "name": "python"
    }
  },
  "cells": [
    {
      "cell_type": "markdown",
      "metadata": {
        "id": "view-in-github",
        "colab_type": "text"
      },
      "source": [
        "<a href=\"https://colab.research.google.com/github/Sravani-05/Semantic-kernel-assignment-and-LLMUI-assignment/blob/main/Semantic_kernel_assignment_and_LLMUI_assignment_.ipynb\" target=\"_parent\"><img src=\"https://colab.research.google.com/assets/colab-badge.svg\" alt=\"Open In Colab\"/></a>"
      ]
    },
    {
      "cell_type": "code",
      "execution_count": null,
      "metadata": {
        "id": "uPnYRt_wIti1"
      },
      "outputs": [],
      "source": [
        "import semantic_kernel as sk\n",
        "from semantic_kernel import dialog\n",
        "from openai import GPT, OpenAIError\n",
        "from semantic_kernel.planner import SequentialPlanner\n",
        "\n",
        "# Initialize Semantic Kernel and OpenAI Assistant API\n",
        "sk.set_api_key(\"shjkbuilnbbgdeslaqygnl\")\n",
        "gpt = GPT(temperature=0.7, response_length=100)\n",
        "\n",
        "# Define a simple planner\n",
        "planner = SequentialPlanner(steps=[\n",
        "    dialog.get_intent,\n",
        "    dialog.create_summary,\n",
        "    dialog.get_response,\n",
        "])\n",
        "\n",
        "# Define the chat copilot's main function\n",
        "def chat_copilot(user_input):\n",
        "    # Process user input using natural language processing\n",
        "    conversation_state = sk.dialog.process_input(user_input)\n",
        "\n",
        "    # Plan the conversation using the planner\n",
        "    plan = planner.plan(conversation_state)\n",
        "\n",
        "    # Execute the planned actions\n",
        "    for action in plan:\n",
        "        action_result = action(conversation_state)\n",
        "        conversation_state = action_result[\"new_state\"]\n",
        "\n",
        "    # Generate a response using OpenAI Assistant API\n",
        "    try:\n",
        "        response = gpt.generate(conversation_state[\"prompt\"])[\"choices\"][0][\"text\"]\n",
        "    except OpenAIError as e:\n",
        "        print(e)\n",
        "        response = \"Sorry, I encountered an error. Please try again later.\"\n",
        "\n",
        "    # Update conversation state\n",
        "    conversation_state = sk.dialog.update_state(conversation_state, response)\n",
        "\n",
        "    return response\n",
        "\n",
        "# Start the chat copilot\n",
        "while True:\n",
        "    user_input = input(\"You: \")\n",
        "    response = chat_copilot(user_input)\n",
        "    print(\"Chat Copilot: \", response)\n"
      ]
    },
    {
      "cell_type": "code",
      "source": [
        "import openai\n",
        "\n",
        "def initialize_chatbot():\n",
        "    openai.api_key = 'shjkbuilnbbgdeslaqygnl'\n",
        "\n",
        "def get_response(prompt):\n",
        "    try:\n",
        "        response = openai.Completion.create(\n",
        "          engine=\"text-davinci-002\",  # Or any other available engine\n",
        "          prompt=prompt,\n",
        "          max_tokens=150\n",
        "        )\n",
        "        return response.choices[0].text.strip()\n",
        "    except Exception as e:\n",
        "        print(f\"An error occurred: {e}\")\n",
        "        return \"\"\n",
        "\n",
        "def chatbot_loop():\n",
        "    print(\"Welcome to the AI Chat Copilot!\")\n",
        "    initialize_chatbot()\n",
        "    while True:\n",
        "        user_input = input(\"You: \")\n",
        "        if user_input.lower() == 'exit':\n",
        "            print(\"Chat Copilot: Goodbye!\")\n",
        "            break\n",
        "        else:\n",
        "            response = get_response(user_input)\n",
        "            print(f\"Chat Copilot: {response}\")\n",
        "\n",
        "if __name__ == \"__main__\":\n",
        "    chatbot_loop()\n"
      ],
      "metadata": {
        "id": "VZCGqdj2GGcd"
      },
      "execution_count": null,
      "outputs": []
    },
    {
      "cell_type": "markdown",
      "source": [
        "Medium article link : https://medium.com/@devipriyassn.dp/building-an-advanced-chat-copilot-with-semantic-kernel-framework-5b22d8e43b4c\n"
      ],
      "metadata": {
        "id": "V_r5rxE_ReBf"
      }
    },
    {
      "cell_type": "code",
      "source": [],
      "metadata": {
        "id": "QhyojsKqOR4K"
      },
      "execution_count": null,
      "outputs": []
    }
  ]
}